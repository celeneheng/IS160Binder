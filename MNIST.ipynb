{
  "nbformat": 4,
  "nbformat_minor": 0,
  "metadata": {
    "colab": {
      "provenance": [],
      "include_colab_link": true
    },
    "kernelspec": {
      "name": "python3",
      "display_name": "Python 3"
    },
    "language_info": {
      "name": "python"
    }
  },
  "cells": [
    {
      "cell_type": "markdown",
      "metadata": {
        "id": "view-in-github",
        "colab_type": "text"
      },
      "source": [
        "<a href=\"https://colab.research.google.com/github/celeneheng/IS160Binder/blob/2/MNIST.ipynb\" target=\"_parent\"><img src=\"https://colab.research.google.com/assets/colab-badge.svg\" alt=\"Open In Colab\"/></a>"
      ]
    },
    {
      "cell_type": "code",
      "source": [
        "#imported database from keras\n",
        "from keras.datasets import mnist\n",
        "(train_images, train_labels), (test_images, test_labels) = mnist.load_data()"
      ],
      "metadata": {
        "colab": {
          "base_uri": "https://localhost:8080/"
        },
        "id": "rpWD39fR5zlr",
        "outputId": "e0416349-8ac2-40a3-de96-09ca0f377a65"
      },
      "execution_count": null,
      "outputs": [
        {
          "output_type": "stream",
          "name": "stdout",
          "text": [
            "Downloading data from https://storage.googleapis.com/tensorflow/tf-keras-datasets/mnist.npz\n",
            "11490434/11490434 [==============================] - 0s 0us/step\n"
          ]
        }
      ]
    },
    {
      "cell_type": "code",
      "source": [
        "from keras import models\n",
        "from keras import layers\n",
        "#models.Sequential() = layers within the model\n",
        "network = models.Sequential()\n",
        "#relu function accounts for overfitting\n",
        "network.add(layers.Dense(512, activation='relu', input_shape=(28*28,)))\n",
        "#used as last activation function of DL to normalize output\n",
        "network.add(layers.Dense(10, activation='softmax'))\n"
      ],
      "metadata": {
        "id": "Bcn6VuM66bmb"
      },
      "execution_count": null,
      "outputs": []
    },
    {
      "cell_type": "code",
      "source": [
        "#reshapes it into shape of model expectancy\n",
        "network.compile(optimizer='rmsprop',\n",
        "loss='categorical_crossentropy',\n",
        "metrics=['accuracy'])"
      ],
      "metadata": {
        "id": "tB3Zz0cJ8s4h"
      },
      "execution_count": null,
      "outputs": []
    },
    {
      "cell_type": "code",
      "source": [
        "#trains the model by fitting model to training data\n",
        "#chooses best parameter\n",
        "train_images = train_images.reshape((60000, 28 * 28))\n",
        "train_images = train_images.astype('float32') / 255\n",
        "test_images = test_images.reshape((10000, 28 * 28))\n",
        "test_images = test_images.astype('float32') / 255"
      ],
      "metadata": {
        "id": "rYgE1gQP9JTy"
      },
      "execution_count": null,
      "outputs": []
    },
    {
      "cell_type": "code",
      "source": [
        "#prepares the label\n",
        "from keras.utils import to_categorical\n",
        "train_labels = to_categorical(train_labels)\n",
        "test_labels = to_categorical(test_labels)"
      ],
      "metadata": {
        "id": "6Q4_lMeS9MKt"
      },
      "execution_count": null,
      "outputs": []
    },
    {
      "cell_type": "code",
      "source": [
        "#fits the model to training data\n",
        "#accuracy is 98.8\n",
        "network.fit(train_images, train_labels, epochs=5, batch_size=128)"
      ],
      "metadata": {
        "colab": {
          "base_uri": "https://localhost:8080/"
        },
        "id": "Jny0GlVEAIpV",
        "outputId": "254dcf97-2d73-4e07-e84e-bc2ee169b1a4"
      },
      "execution_count": null,
      "outputs": [
        {
          "output_type": "stream",
          "name": "stdout",
          "text": [
            "Epoch 1/5\n",
            "469/469 [==============================] - 8s 15ms/step - loss: 0.2656 - accuracy: 0.9237\n",
            "Epoch 2/5\n",
            "469/469 [==============================] - 6s 12ms/step - loss: 0.1075 - accuracy: 0.9676\n",
            "Epoch 3/5\n",
            "469/469 [==============================] - 5s 11ms/step - loss: 0.0715 - accuracy: 0.9788\n",
            "Epoch 4/5\n",
            "469/469 [==============================] - 6s 12ms/step - loss: 0.0519 - accuracy: 0.9840\n",
            "Epoch 5/5\n",
            "469/469 [==============================] - 5s 10ms/step - loss: 0.0386 - accuracy: 0.9884\n"
          ]
        },
        {
          "output_type": "execute_result",
          "data": {
            "text/plain": [
              "<keras.src.callbacks.History at 0x78469d9fcaf0>"
            ]
          },
          "metadata": {},
          "execution_count": 11
        }
      ]
    },
    {
      "cell_type": "code",
      "source": [
        "test_loss, test_acc = network.evaluate(test_images, test_labels)\n",
        "print('test_acc:', test_acc)"
      ],
      "metadata": {
        "colab": {
          "base_uri": "https://localhost:8080/"
        },
        "id": "ZyDuhLe6AIrS",
        "outputId": "d3dc85fc-ad67-45d8-8237-fcd6d738255b"
      },
      "execution_count": null,
      "outputs": [
        {
          "output_type": "stream",
          "name": "stdout",
          "text": [
            "313/313 [==============================] - 1s 4ms/step - loss: 0.0818 - accuracy: 0.9749\n",
            "test_acc: 0.9749000072479248\n"
          ]
        }
      ]
    },
    {
      "cell_type": "markdown",
      "source": [
        "Our test data is 97.5 while our training data is 98.9, which indicates an overfitting issue"
      ],
      "metadata": {
        "id": "5chdV8oSBbxk"
      }
    },
    {
      "cell_type": "markdown",
      "source": [
        "# MINST from **ChatGPT**"
      ],
      "metadata": {
        "id": "B25ls-YVC-BC"
      }
    },
    {
      "cell_type": "code",
      "source": [
        "import tensorflow as tf\n",
        "from tensorflow.keras.datasets import mnist\n",
        "from tensorflow.keras.models import Sequential\n",
        "from tensorflow.keras.layers import Conv2D, MaxPooling2D, Flatten, Dense, Dropout\n",
        "from tensorflow.keras.utils import to_categorical\n"
      ],
      "metadata": {
        "id": "x4RSFWcjDIl2"
      },
      "execution_count": null,
      "outputs": []
    },
    {
      "cell_type": "code",
      "source": [
        "# Load and preprocess the dataset\n",
        "(train_images, train_labels), (test_images, test_labels) = mnist.load_data()\n",
        "train_images = train_images.reshape((60000, 28, 28, 1))\n",
        "train_images = train_images.astype('float32') / 255\n",
        "test_images = test_images.reshape((10000, 28, 28, 1))\n",
        "test_images = test_images.astype('float32') / 255\n",
        "train_labels = to_categorical(train_labels)\n",
        "test_labels = to_categorical(test_labels)\n"
      ],
      "metadata": {
        "colab": {
          "base_uri": "https://localhost:8080/"
        },
        "id": "bPZyvXdsDVCR",
        "outputId": "09f33764-7010-4380-e290-d8729de3c232"
      },
      "execution_count": null,
      "outputs": [
        {
          "output_type": "stream",
          "name": "stdout",
          "text": [
            "Downloading data from https://storage.googleapis.com/tensorflow/tf-keras-datasets/mnist.npz\n",
            "11490434/11490434 [==============================] - 0s 0us/step\n"
          ]
        }
      ]
    },
    {
      "cell_type": "code",
      "source": [
        "# Create the CNN model\n",
        "model = Sequential()\n",
        "model.add(Conv2D(32, (3, 3), activation='relu', input_shape=(28, 28, 1)))\n",
        "model.add(MaxPooling2D((2, 2)))\n",
        "model.add(Conv2D(64, (3, 3), activation='relu'))\n",
        "model.add(MaxPooling2D((2, 2)))\n",
        "model.add(Conv2D(64, (3, 3), activation='relu'))\n",
        "model.add(Flatten())\n",
        "model.add(Dense(64, activation='relu'))\n",
        "model.add(Dense(10, activation='softmax'))  # Output layer with 10 classes (digits 0-9)\n"
      ],
      "metadata": {
        "id": "j140nVH8DWnQ"
      },
      "execution_count": null,
      "outputs": []
    },
    {
      "cell_type": "code",
      "source": [
        "# Compile the model\n",
        "model.compile(optimizer='adam',\n",
        "              loss='categorical_crossentropy',\n",
        "              metrics=['accuracy'])"
      ],
      "metadata": {
        "id": "BS9ZkY2gDot_"
      },
      "execution_count": null,
      "outputs": []
    },
    {
      "cell_type": "code",
      "source": [
        "# Train the model\n",
        "history = model.fit(train_images, train_labels, epochs=5, batch_size=64, validation_split=0.2)\n",
        "\n",
        "# Evaluate the model on the test dataset\n",
        "test_loss, test_accuracy = model.evaluate(test_images, test_labels)\n",
        "print(f'Test accuracy: {test_accuracy * 100:.2f}%')"
      ],
      "metadata": {
        "colab": {
          "base_uri": "https://localhost:8080/"
        },
        "id": "x7lYrtr0DrJ7",
        "outputId": "5e715c5c-f9af-4c6c-dab3-463c3be0684c"
      },
      "execution_count": null,
      "outputs": [
        {
          "output_type": "stream",
          "name": "stdout",
          "text": [
            "Epoch 1/5\n",
            "750/750 [==============================] - 42s 55ms/step - loss: 0.2159 - accuracy: 0.9336 - val_loss: 0.0778 - val_accuracy: 0.9774\n",
            "Epoch 2/5\n",
            "750/750 [==============================] - 43s 57ms/step - loss: 0.0596 - accuracy: 0.9818 - val_loss: 0.0480 - val_accuracy: 0.9859\n",
            "Epoch 3/5\n",
            "750/750 [==============================] - 39s 52ms/step - loss: 0.0423 - accuracy: 0.9866 - val_loss: 0.0480 - val_accuracy: 0.9846\n",
            "Epoch 4/5\n",
            "750/750 [==============================] - 38s 51ms/step - loss: 0.0317 - accuracy: 0.9894 - val_loss: 0.0366 - val_accuracy: 0.9893\n",
            "Epoch 5/5\n",
            "750/750 [==============================] - 41s 54ms/step - loss: 0.0256 - accuracy: 0.9919 - val_loss: 0.0492 - val_accuracy: 0.9853\n",
            "313/313 [==============================] - 2s 8ms/step - loss: 0.0419 - accuracy: 0.9877\n",
            "Test accuracy: 98.77%\n"
          ]
        }
      ]
    },
    {
      "cell_type": "markdown",
      "source": [
        "This indicates that the training process has completed five epochs.The loss value (0.0256) is a measure of how well the neural network is performing on the training dataset. Lower values indicate better performance. An accuracy of 0.9919 means that the network is correctly classifying approximately 99.19% of the training data. A validation loss of 0.0492 is relatively low, indicating good generalization. An accuracy of 0.9853 means that the network is correctly classifying approximately 98.53% of the validation data."
      ],
      "metadata": {
        "id": "lkJSkJzavq1C"
      }
    }
  ]
}
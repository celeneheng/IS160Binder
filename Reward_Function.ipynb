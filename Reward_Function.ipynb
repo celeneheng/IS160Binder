{
  "nbformat": 4,
  "nbformat_minor": 0,
  "metadata": {
    "colab": {
      "provenance": [],
      "authorship_tag": "ABX9TyOE0EpXeA9AnIDf2uxv2xG5",
      "include_colab_link": true
    },
    "kernelspec": {
      "name": "python3",
      "display_name": "Python 3"
    },
    "language_info": {
      "name": "python"
    }
  },
  "cells": [
    {
      "cell_type": "markdown",
      "metadata": {
        "id": "view-in-github",
        "colab_type": "text"
      },
      "source": [
        "<a href=\"https://colab.research.google.com/github/celeneheng/IS160Binder/blob/6--Deep-Racer-AWS/Reward_Function.ipynb\" target=\"_parent\"><img src=\"https://colab.research.google.com/assets/colab-badge.svg\" alt=\"Open In Colab\"/></a>"
      ]
    },
    {
      "cell_type": "code",
      "execution_count": null,
      "metadata": {
        "id": "9g40WuJF3r-U"
      },
      "outputs": [],
      "source": [
        "def reward_function(params):\n",
        "    '''\n",
        "    Example of penalize steering, which helps mitigate zig-zag behaviors\n",
        "    '''\n",
        "\n",
        "    # Read input parameters\n",
        "    distance_from_center = params['distance_from_center']\n",
        "    track_width = params['track_width']\n",
        "    abs_steering = abs(params['steering_angle']) # Only need the absolute steering angle\n",
        "\n",
        "    # Calculate 3 marks that are farther and father away from the center line\n",
        "    marker_1 = 0.1 * track_width\n",
        "    marker_2 = 0.25 * track_width\n",
        "    marker_3 = 0.5 * track_width\n",
        "\n",
        "    # Give higher reward if the car is closer to center line and vice versa\n",
        "    if distance_from_center <= marker_1:\n",
        "        reward = 1.0\n",
        "    elif distance_from_center <= marker_2:\n",
        "        reward = 0.5\n",
        "    elif distance_from_center <= marker_3:\n",
        "        reward = 0.1\n",
        "    else:\n",
        "        reward = 1e-3  # likely crashed/ close to off track\n",
        "\n",
        "    # Steering penality threshold, change the number based on your action space setting\n",
        "    ABS_STEERING_THRESHOLD = 15\n",
        "\n",
        "    # Penalize reward if the car is steering too much\n",
        "    if abs_steering > ABS_STEERING_THRESHOLD:\n",
        "        reward *= 0.8\n",
        "    return float(reward)"
      ]
    }
  ]
}